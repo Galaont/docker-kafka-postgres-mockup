{
 "cells": [
  {
   "cell_type": "code",
   "execution_count": 2,
   "metadata": {},
   "outputs": [
    {
     "data": {
      "application/vnd.microsoft.datawrangler.viewer.v0+json": {
       "columns": [
        {
         "name": "index",
         "rawType": "int64",
         "type": "integer"
        },
        {
         "name": "id",
         "rawType": "int64",
         "type": "integer"
        },
        {
         "name": "temp",
         "rawType": "int64",
         "type": "integer"
        },
        {
         "name": "humidity",
         "rawType": "int64",
         "type": "integer"
        },
        {
         "name": "date_time",
         "rawType": "object",
         "type": "string"
        }
       ],
       "conversionMethod": "pd.DataFrame",
       "ref": "0eb27488-ba62-4719-9697-b3b057683427",
       "rows": [
        [
         "0",
         "9197",
         "21",
         "20",
         "2016-08-17 00:00:01"
        ],
        [
         "1",
         "9198",
         "21",
         "20",
         "2016-08-17 00:01:01"
        ],
        [
         "2",
         "9199",
         "21",
         "20",
         "2016-08-17 00:02:01"
        ],
        [
         "3",
         "9200",
         "21",
         "20",
         "2016-08-17 00:03:01"
        ],
        [
         "4",
         "9201",
         "21",
         "20",
         "2016-08-17 00:04:01"
        ]
       ],
       "shape": {
        "columns": 4,
        "rows": 5
       }
      },
      "text/html": [
       "<div>\n",
       "<style scoped>\n",
       "    .dataframe tbody tr th:only-of-type {\n",
       "        vertical-align: middle;\n",
       "    }\n",
       "\n",
       "    .dataframe tbody tr th {\n",
       "        vertical-align: top;\n",
       "    }\n",
       "\n",
       "    .dataframe thead th {\n",
       "        text-align: right;\n",
       "    }\n",
       "</style>\n",
       "<table border=\"1\" class=\"dataframe\">\n",
       "  <thead>\n",
       "    <tr style=\"text-align: right;\">\n",
       "      <th></th>\n",
       "      <th>id</th>\n",
       "      <th>temp</th>\n",
       "      <th>humidity</th>\n",
       "      <th>date_time</th>\n",
       "    </tr>\n",
       "  </thead>\n",
       "  <tbody>\n",
       "    <tr>\n",
       "      <th>0</th>\n",
       "      <td>9197</td>\n",
       "      <td>21</td>\n",
       "      <td>20</td>\n",
       "      <td>2016-08-17 00:00:01</td>\n",
       "    </tr>\n",
       "    <tr>\n",
       "      <th>1</th>\n",
       "      <td>9198</td>\n",
       "      <td>21</td>\n",
       "      <td>20</td>\n",
       "      <td>2016-08-17 00:01:01</td>\n",
       "    </tr>\n",
       "    <tr>\n",
       "      <th>2</th>\n",
       "      <td>9199</td>\n",
       "      <td>21</td>\n",
       "      <td>20</td>\n",
       "      <td>2016-08-17 00:02:01</td>\n",
       "    </tr>\n",
       "    <tr>\n",
       "      <th>3</th>\n",
       "      <td>9200</td>\n",
       "      <td>21</td>\n",
       "      <td>20</td>\n",
       "      <td>2016-08-17 00:03:01</td>\n",
       "    </tr>\n",
       "    <tr>\n",
       "      <th>4</th>\n",
       "      <td>9201</td>\n",
       "      <td>21</td>\n",
       "      <td>20</td>\n",
       "      <td>2016-08-17 00:04:01</td>\n",
       "    </tr>\n",
       "  </tbody>\n",
       "</table>\n",
       "</div>"
      ],
      "text/plain": [
       "     id  temp  humidity            date_time\n",
       "0  9197    21        20  2016-08-17 00:00:01\n",
       "1  9198    21        20  2016-08-17 00:01:01\n",
       "2  9199    21        20  2016-08-17 00:02:01\n",
       "3  9200    21        20  2016-08-17 00:03:01\n",
       "4  9201    21        20  2016-08-17 00:04:01"
      ]
     },
     "execution_count": 2,
     "metadata": {},
     "output_type": "execute_result"
    }
   ],
   "source": [
    "import pandas as pd\n",
    "\n",
    "# Read the parquet file\n",
    "df = pd.read_parquet('measurements.parquet')\n",
    "\n",
    "# Display the first few rows of the dataframe\n",
    "df.head()"
   ]
  },
  {
   "cell_type": "code",
   "execution_count": 3,
   "metadata": {},
   "outputs": [
    {
     "data": {
      "text/plain": [
       "Index(['id', 'temp', 'humidity', 'date_time'], dtype='object')"
      ]
     },
     "execution_count": 3,
     "metadata": {},
     "output_type": "execute_result"
    }
   ],
   "source": [
    "df.columns"
   ]
  },
  {
   "cell_type": "code",
   "execution_count": null,
   "metadata": {},
   "outputs": [],
   "source": []
  }
 ],
 "metadata": {
  "kernelspec": {
   "display_name": "nextray_env",
   "language": "python",
   "name": "python3"
  },
  "language_info": {
   "codemirror_mode": {
    "name": "ipython",
    "version": 3
   },
   "file_extension": ".py",
   "mimetype": "text/x-python",
   "name": "python",
   "nbconvert_exporter": "python",
   "pygments_lexer": "ipython3",
   "version": "3.13.0"
  }
 },
 "nbformat": 4,
 "nbformat_minor": 2
}
